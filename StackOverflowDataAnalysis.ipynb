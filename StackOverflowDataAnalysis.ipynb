{
 "cells": [
  {
   "cell_type": "code",
   "execution_count": 2,
   "metadata": {},
   "outputs": [],
   "source": [
    "import numpy as np \n",
    "import pandas as pd \n",
    "import requests \n",
    "from bs4 import BeautifulSoup as bs\n",
    "import matplotlib.pyplot as plt \n",
    "from matplotlib import pyplot as mp \n",
    "import statistics\n",
    "%matplotlib inline \n",
    "\n"
   ]
  },
  {
   "cell_type": "code",
   "execution_count": 4,
   "metadata": {},
   "outputs": [],
   "source": [
    "#changed repeatedly to take different sample from different years\n",
    "response1 = requests.get('https://stackoverflow.com/questions?tab=newest&page=350000')\n",
    "\n",
    "soup1 = bs(response1.content, 'html.parser')\n",
    "\n",
    "\n",
    "body1 = soup1.select_one('body')\n"
   ]
  },
  {
   "cell_type": "code",
   "execution_count": 52,
   "metadata": {},
   "outputs": [],
   "source": [
    "n_ans=[]"
   ]
  },
  {
   "cell_type": "code",
   "execution_count": 53,
   "metadata": {},
   "outputs": [
    {
     "name": "stdout",
     "output_type": "stream",
     "text": [
      "[1, 1, 0, 0, 1, 0, 0, 0, 2, 0, 1, 0, 0, 0, 0, 1, 0, 1, 0, 0, 0, 0, 1, 1, 1, 2, 0, 0, 0, 0, 1, 0, 0, 0, 1, 0, 1, 0, 0, 3, 1, 0, 3, 0, 1, 0, 0, 2, 0, 0, 0, 0, 2, 0, 0, 1, 0, 0, 0, 1, 2, 2, 0, 2, 1, 1, 2, 0, 1, 0, 0, 1, 2, 0, 1, 1, 0, 0, 0, 0, 0, 0, 1, 0, 1, 0, 2, 1, 0, 0, 1, 1, 1, 0, 1, 1, 1, 0, 1, 0, 0, 1, 0, 1, 0, 1, 0, 1, 1, 0, 2, 0, 1, 1, 0, 2, 2, 0, 1, 0, 0, 0, 0, 0, 1, 1, 1, 1, 1, 1, 0, 1, 0, 0, 1, 0, 0, 2, 0, 0, 0, 1, 1, 2, 0, 0, 0, 2, 2, 1, 0, 1, 1, 1, 3, 1, 1, 1, 1, 1, 1, 1, 1, 3, 0, 1, 0, 0, 1, 0, 0, 0, 1, 1, 1, 1, 2, 2, 0, 0, 1, 0, 2, 0, 1, 1, 1, 1, 1, 2, 3, 1, 1, 4, 0, 1, 2, 0, 4, 3, 0, 1, 0, 0, 1, 0, 0, 1, 0, 1, 1, 0, 1, 0, 0, 1, 1, 2, 1, 0, 1, 1, 1, 1, 2, 1, 1, 0, 1, 2, 1, 2, 5, 1, 0, 1, 2, 0, 0, 0, 0, 1, 0, 0, 0, 0, 1, 3, 0, 1, 0, 1, 1, 0, 1, 0, 0, 4, 0, 1, 0, 1, 1, 1, 1, 1, 1, 0, 1, 3, 0, 0, 1, 1, 0, 0, 0, 0, 3, 1, 1, 0, 1, 0, 1, 3, 0, 0, 1, 3, 0, 0, 0, 0, 1, 0, 5, 0, 0, 0, 1, 1, 1, 0, 1, 1, 1, 1, 3, 1, 0, 0, 2, 0, 1, 1, 1, 1, 0, 0, 0, 1, 1, 2, 0, 0, 1, 4, 0, 0, 2, 1, 0, 1, 0, 1, 1, 1, 1, 1, 1, 1, 0, 0, 1, 1, 1, 1, 2, 0, 1, 1, 2, 3, 2, 1, 1, 0, 0, 1, 2, 2, 1, 4, 4, 0, 1, 2, 1, 0, 0, 0, 3, 0, 1, 0, 2, 1, 6, 2, 3, 2, 1, 2, 3, 3, 0, 1, 3, 3, 0, 1, 1, 1, 1, 1, 1, 0, 1, 0, 0, 1, 1, 1, 0, 1, 2, 1, 1, 0, 1, 1, 1, 1, 1, 1, 1, 0, 0, 1, 1, 1, 1, 1, 3, 1, 4, 1, 1, 1, 1, 1, 1, 1, 0, 1, 2, 1, 1, 1, 5, 3, 1, 0, 0, 3, 1, 3, 3, 6, 1, 3, 1, 1, 1, 4, 2, 0, 3, 1, 1, 4, 2, 1, 3, 2, 1, 1, 1, 2, 1, 1, 1, 2, 1, 1, 1, 1, 1, 0, 0, 0, 2, 1, 2, 0, 2, 1, 3, 0, 1, 0, 2, 1, 2, 1, 4, 0, 2, 1, 1, 1, 1, 1, 3, 1, 1, 2, 2, 1, 1, 2, 1, 1, 2, 1, 4, 1, 0, 6, 1, 1, 2, 2, 2, 1, 3, 3, 1, 2, 2, 1, 1, 0, 1, 0, 0, 1, 1, 2, 1, 0, 1, 1, 1, 3, 2, 1, 1, 3, 1, 1, 1, 1, 2, 3, 1, 0, 1, 1, 0, 2, 1, 2, 1, 1, 6, 1, 1, 3, 0, 1, 1, 2, 2, 2, 4, 3, 1, 5, 0, 1, 0, 1, 1, 0, 0, 1, 3, 1, 2, 1, 1, 4, 1, 2, 2, 3, 3, 3]\n"
     ]
    }
   ],
   "source": [
    "answer_divs = body1.select(\"div.status strong\")\n",
    "no_of_answers = [int(i.text) for i in answer_divs]\n",
    "\n",
    "res=no_of_answers[:50]\n",
    "\n",
    "for i in res:\n",
    "    n_ans.append(i)\n",
    "    \n",
    "print(n_ans)"
   ]
  },
  {
   "cell_type": "code",
   "execution_count": 54,
   "metadata": {},
   "outputs": [
    {
     "name": "stdout",
     "output_type": "stream",
     "text": [
      "600\n",
      "1.055\n"
     ]
    }
   ],
   "source": [
    "#sample size and mean\n",
    "x = np.mean(n_ans)\n",
    "print(len(n_ans))\n",
    "print(x)"
   ]
  },
  {
   "cell_type": "code",
   "execution_count": 97,
   "metadata": {},
   "outputs": [
    {
     "name": "stderr",
     "output_type": "stream",
     "text": [
      "/Users/aljoharah/opt/anaconda3/lib/python3.7/site-packages/ipykernel_launcher.py:4: FutureWarning: `Series.plot()` should not be called with positional arguments, only keyword arguments. The order of positional arguments will change in the future. Use `Series.plot(kind='bar')` instead of `Series.plot('bar',)`.\n",
      "  after removing the cwd from sys.path.\n"
     ]
    },
    {
     "data": {
      "text/plain": [
       "<matplotlib.axes._subplots.AxesSubplot at 0x121bda250>"
      ]
     },
     "execution_count": 97,
     "metadata": {},
     "output_type": "execute_result"
    },
    {
     "data": {
      "image/png": "[encoded data removed]",
      "text/plain": [
       "<Figure size 432x288 with 1 Axes>"
      ]
     },
     "metadata": {
      "needs_background": "light"
     },
     "output_type": "display_data"
    }
   ],
   "source": [
    "df = pd.DataFrame({'Answers':n_ans,'Views':n_views})\n",
    "df['Answers'].value_counts().plot('bar')"
   ]
  },
  {
   "cell_type": "code",
   "execution_count": 59,
   "metadata": {},
   "outputs": [],
   "source": [
    "n_views=[]"
   ]
  },
  {
   "cell_type": "code",
   "execution_count": 62,
   "metadata": {},
   "outputs": [],
   "source": [
    " div_views = body1.select(\"div.views\")"
   ]
  },
  {
   "cell_type": "code",
   "execution_count": 95,
   "metadata": {},
   "outputs": [
    {
     "name": "stdout",
     "output_type": "stream",
     "text": [
      "[10, 13, 7, 18, 17, 19, 22, 32, 26, 7, 20, 4, 12, 14, 19, 4, 28, 7, 22, 31, 34, 29, 11, 7, 14, 357, 7, 6, 15, 5, 39, 12, 35, 24, 30, 7, 36, 17, 14, 23, 29, 38, 10, 16, 18, 114, 28, 19, 14, 38, 10, 13, 7, 18, 17, 19, 22, 32, 26, 7, 20, 4, 12, 14, 19, 4, 28, 7, 22, 31, 34, 29, 11, 7, 14, 357, 7, 6, 15, 5, 39, 12, 35, 24, 30, 7, 36, 17, 14, 23, 29, 38, 10, 16, 18, 114, 28, 19, 14, 38, 10, 13, 7, 18, 17, 19, 22, 32, 26, 7, 20, 4, 12, 14, 19, 4, 28, 7, 22, 31, 34, 29, 11, 7, 14, 357, 7, 6, 15, 5, 39, 12, 35, 24, 30, 7, 36, 17, 14, 23, 29, 38, 10, 16, 18, 114, 28, 19, 14, 38, 10, 13, 7, 18, 17, 19, 22, 32, 26, 7, 20, 4, 12, 14, 19, 4, 28, 7, 22, 31, 34, 29, 11, 7, 14, 357, 7, 6, 15, 5, 39, 12, 35, 24, 30, 7, 36, 17, 14, 23, 29, 38, 10, 16, 18, 114, 28, 19, 14, 38, 10, 13, 7, 18, 17, 19, 22, 32, 26, 7, 20, 4, 12, 14, 19, 4, 28, 7, 22, 31, 34, 29, 11, 7, 14, 357, 7, 6, 15, 5, 39, 12, 35, 24, 30, 7, 36, 17, 14, 23, 29, 38, 10, 16, 18, 114, 28, 19, 14, 38, 10, 13, 7, 18, 17, 19, 22, 32, 26, 7, 20, 4, 12, 14, 19, 4, 28, 7, 22, 31, 34, 29, 11, 7, 14, 357, 7, 6, 15, 5, 39, 12, 35, 24, 30, 7, 36, 17, 14, 23, 29, 38, 10, 16, 18, 114, 28, 19, 14, 38, 10, 13, 7, 18, 17, 19, 22, 32, 26, 7, 20, 4, 12, 14, 19, 4, 28, 7, 22, 31, 34, 29, 11, 7, 14, 357, 7, 6, 15, 5, 39, 12, 35, 24, 30, 7, 36, 17, 14, 23, 29, 38, 10, 16, 18, 114, 28, 19, 14, 38, 10, 13, 7, 18, 17, 19, 22, 32, 26, 7, 20, 4, 12, 14, 19, 4, 28, 7, 22, 31, 34, 29, 11, 7, 14, 357, 7, 6, 15, 5, 39, 12, 35, 24, 30, 7, 36, 17, 14, 23, 29, 38, 10, 16, 18, 114, 28, 19, 14, 38, 10, 13, 7, 18, 17, 19, 22, 32, 26, 7, 20, 4, 12, 14, 19, 4, 28, 7, 22, 31, 34, 29, 11, 7, 14, 357, 7, 6, 15, 5, 39, 12, 35, 24, 30, 7, 36, 17, 14, 23, 29, 38, 10, 16, 18, 114, 28, 19, 14, 38, 10, 13, 7, 18, 17, 19, 22, 32, 26, 7, 20, 4, 12, 14, 19, 4, 28, 7, 22, 31, 34, 29, 11, 7, 14, 357, 7, 6, 15, 5, 39, 12, 35, 24, 30, 7, 36, 17, 14, 23, 29, 38, 10, 16, 18, 114, 28, 19, 14, 38, 10, 13, 7, 18, 17, 19, 22, 32, 26, 7, 20, 4, 12, 14, 19, 4, 28, 7, 22, 31, 34, 29, 11, 7, 14, 357, 7, 6, 15, 5, 39, 12, 35, 24, 30, 7, 36, 17, 14, 23, 29, 38, 10, 16, 18, 114, 28, 19, 14, 38, 10, 13, 7, 18, 17, 19, 22, 32, 26, 7, 20, 4, 12, 14, 19, 4, 28, 7, 22, 31, 34, 29, 11, 7, 14, 357, 7, 6, 15, 5, 39, 12, 35, 24, 30, 7, 36, 17, 14, 23, 29, 38, 10, 16, 18, 114, 28, 19, 14, 38]\n"
     ]
    }
   ],
   "source": [
    "no_of_views = [i['title'] for i in div_views]\n",
    "no_of_views = [i[:-6].replace(',', '') for i in no_of_views]\n",
    "no_of_views = [int(i) for i in no_of_views]\n",
    "r=no_of_views[:50]\n",
    "\n",
    "for i in r:\n",
    "    n_views.append(i)\n",
    "    \n",
    "print(n_views)"
   ]
  },
  {
   "cell_type": "code",
   "execution_count": 96,
   "metadata": {},
   "outputs": [
    {
     "name": "stdout",
     "output_type": "stream",
     "text": [
      "600\n",
      "27.56\n"
     ]
    }
   ],
   "source": [
    "#sample size and mean\n",
    "x = np.mean(n_views)\n",
    "print(len(n_views))\n",
    "print(x)"
   ]
  },
  {
   "cell_type": "code",
   "execution_count": 98,
   "metadata": {},
   "outputs": [
    {
     "name": "stderr",
     "output_type": "stream",
     "text": [
      "/Users/aljoharah/opt/anaconda3/lib/python3.7/site-packages/ipykernel_launcher.py:1: FutureWarning: `Series.plot()` should not be called with positional arguments, only keyword arguments. The order of positional arguments will change in the future. Use `Series.plot(kind='hist')` instead of `Series.plot('hist',)`.\n",
      "  \"\"\"Entry point for launching an IPython kernel.\n"
     ]
    },
    {
     "data": {
      "text/plain": [
       "<matplotlib.axes._subplots.AxesSubplot at 0x12409a450>"
      ]
     },
     "execution_count": 98,
     "metadata": {},
     "output_type": "execute_result"
    },
    {
     "data": {
      "image/png": "[encoded data removed]",
      "text/plain": [
       "<Figure size 432x288 with 1 Axes>"
      ]
     },
     "metadata": {
      "needs_background": "light"
     },
     "output_type": "display_data"
    }
   ],
   "source": [
    "df['Views'].value_counts().plot('hist')"
   ]
  },
  {
   "cell_type": "code",
   "execution_count": 99,
   "metadata": {},
   "outputs": [],
   "source": [
    "response = requests.get('https://stackoverflow.com/tags')\n",
    "soup = bs(response.content, 'html.parser')\n",
    "\n",
    "# body \n",
    "body = soup.find('body')\n"
   ]
  },
  {
   "cell_type": "code",
   "execution_count": 100,
   "metadata": {},
   "outputs": [
    {
     "data": {
      "text/plain": [
       "['javascript',\n",
       " 'java',\n",
       " 'c#',\n",
       " 'python',\n",
       " 'php',\n",
       " 'android',\n",
       " 'jquery',\n",
       " 'html',\n",
       " 'c++',\n",
       " 'css']"
      ]
     },
     "execution_count": 100,
     "metadata": {},
     "output_type": "execute_result"
    }
   ],
   "source": [
    "#top asked languages in the site\n",
    "lang_tags = body.find_all('a', class_='post-tag')\n",
    "lang_tags[:5]\n",
    "languages = [i.text for i in lang_tags]\n",
    "languages[:10]"
   ]
  },
  {
   "cell_type": "code",
   "execution_count": 10,
   "metadata": {},
   "outputs": [],
   "source": [
    "#the code to extract top 50 question and it is attributes\n",
    "response = requests.get(\"https://stackoverflow.com/questions?sort=votes&pagesize=50\")\n",
    "soup1 = bs(response.content, 'html.parser')\n",
    "\n",
    "# body \n",
    "body1 = soup1.select_one('body')\n",
    "\n",
    "\n"
   ]
  },
  {
   "cell_type": "code",
   "execution_count": 11,
   "metadata": {},
   "outputs": [
    {
     "data": {
      "text/plain": [
       "[<a class=\"question-hyperlink\" href=\"/questions/11227809/why-is-processing-a-sorted-array-faster-than-processing-an-unsorted-array\">Why is processing a sorted array faster than processing an unsorted array?</a>,\n",
       " <a class=\"question-hyperlink\" href=\"/questions/927358/how-do-i-undo-the-most-recent-local-commits-in-git\">How do I undo the most recent local commits in Git?</a>]"
      ]
     },
     "execution_count": 11,
     "metadata": {},
     "output_type": "execute_result"
    }
   ],
   "source": [
    "question_links = body1.select(\"h3 a.question-hyperlink\")\n",
    "question_links[:2]"
   ]
  },
  {
   "cell_type": "code",
   "execution_count": 12,
   "metadata": {},
   "outputs": [
    {
     "data": {
      "text/plain": [
       "['Why is processing a sorted array faster than processing an unsorted array?',\n",
       " 'How do I undo the most recent local commits in Git?']"
      ]
     },
     "execution_count": 12,
     "metadata": {},
     "output_type": "execute_result"
    }
   ],
   "source": [
    "questions = [i.text for i in question_links]\n",
    "questions[:2]"
   ]
  },
  {
   "cell_type": "code",
   "execution_count": 13,
   "metadata": {},
   "outputs": [
    {
     "name": "stdout",
     "output_type": "stream",
     "text": [
      "<div class=\"excerpt\">\r\n",
      "            Here is a piece of C++ code that shows some very peculiar behavior. For some strange reason, sorting the data miraculously makes the code almost six times faster:\n",
      "\n",
      "#include &lt;algorithm&gt;\n",
      "#include &amp;...\r\n",
      "        </div>\n"
     ]
    }
   ],
   "source": [
    "summary_divs = body1.select(\"div.excerpt\")\n",
    "print(summary_divs[0])"
   ]
  },
  {
   "cell_type": "code",
   "execution_count": 14,
   "metadata": {},
   "outputs": [
    {
     "data": {
      "text/plain": [
       "'Here is a piece of C++ code that shows some very peculiar behavior. For some strange reason, sorting the data miraculously makes the code almost six times faster:\\n\\n#include <algorithm>\\n#include &...'"
      ]
     },
     "execution_count": 14,
     "metadata": {},
     "output_type": "execute_result"
    }
   ],
   "source": [
    "summaries = [i.text.strip() for i in summary_divs]\n",
    "summaries[0]"
   ]
  },
  {
   "cell_type": "code",
   "execution_count": 15,
   "metadata": {},
   "outputs": [
    {
     "data": {
      "text/plain": [
       "<div class=\"tags t-java t-cçç t-performance t-optimization t-branch-prediction\">\n",
       "<a class=\"post-tag\" href=\"/questions/tagged/java\" rel=\"tag\" title=\"show questions tagged 'java'\">java</a> <a class=\"post-tag\" href=\"/questions/tagged/c%2b%2b\" rel=\"tag\" title=\"show questions tagged 'c++'\">c++</a> <a class=\"post-tag\" href=\"/questions/tagged/performance\" rel=\"tag\" title=\"show questions tagged 'performance'\">performance</a> <a class=\"post-tag\" href=\"/questions/tagged/optimization\" rel=\"tag\" title=\"show questions tagged 'optimization'\">optimization</a> <a class=\"post-tag\" href=\"/questions/tagged/branch-prediction\" rel=\"tag\" title=\"show questions tagged 'branch-prediction'\">branch-prediction</a>\n",
       "</div>"
      ]
     },
     "execution_count": 15,
     "metadata": {},
     "output_type": "execute_result"
    }
   ],
   "source": [
    "tags_divs = body1.select(\"div.summary > div:nth-of-type(2)\")\n",
    "tags_divs[0]"
   ]
  },
  {
   "cell_type": "code",
   "execution_count": 16,
   "metadata": {},
   "outputs": [
    {
     "data": {
      "text/plain": [
       "[<a class=\"post-tag\" href=\"/questions/tagged/java\" rel=\"tag\" title=\"show questions tagged 'java'\">java</a>,\n",
       " <a class=\"post-tag\" href=\"/questions/tagged/c%2b%2b\" rel=\"tag\" title=\"show questions tagged 'c++'\">c++</a>,\n",
       " <a class=\"post-tag\" href=\"/questions/tagged/performance\" rel=\"tag\" title=\"show questions tagged 'performance'\">performance</a>,\n",
       " <a class=\"post-tag\" href=\"/questions/tagged/optimization\" rel=\"tag\" title=\"show questions tagged 'optimization'\">optimization</a>,\n",
       " <a class=\"post-tag\" href=\"/questions/tagged/branch-prediction\" rel=\"tag\" title=\"show questions tagged 'branch-prediction'\">branch-prediction</a>]"
      ]
     },
     "execution_count": 16,
     "metadata": {},
     "output_type": "execute_result"
    }
   ],
   "source": [
    "a_tags_list = [i.select('a') for i in tags_divs]\n",
    "\n",
    "# Printing first question's a tags\n",
    "a_tags_list[0]"
   ]
  },
  {
   "cell_type": "code",
   "execution_count": 17,
   "metadata": {},
   "outputs": [
    {
     "data": {
      "text/plain": [
       "['java', 'c++', 'performance', 'optimization', 'branch-prediction']"
      ]
     },
     "execution_count": 17,
     "metadata": {},
     "output_type": "execute_result"
    }
   ],
   "source": [
    "tags = []\n",
    "\n",
    "for a_group in a_tags_list:\n",
    "    tags.append([a.text for a in a_group])\n",
    "\n",
    "tags[0]"
   ]
  },
  {
   "cell_type": "code",
   "execution_count": 18,
   "metadata": {},
   "outputs": [
    {
     "name": "stdout",
     "output_type": "stream",
     "text": [
      "[<strong>24231</strong>, <strong>20771</strong>]\n"
     ]
    }
   ],
   "source": [
    "vote_spans = body1.select(\"span.vote-count-post strong\")\n",
    "print(vote_spans[:2])"
   ]
  },
  {
   "cell_type": "code",
   "execution_count": 19,
   "metadata": {},
   "outputs": [
    {
     "data": {
      "text/plain": [
       "[24231, 20771, 16740, 11772, 10166]"
      ]
     },
     "execution_count": 19,
     "metadata": {},
     "output_type": "execute_result"
    }
   ],
   "source": [
    "no_of_votes = [int(i.text) for i in vote_spans]\n",
    "no_of_votes[:5]"
   ]
  },
  {
   "cell_type": "code",
   "execution_count": 20,
   "metadata": {},
   "outputs": [
    {
     "data": {
      "text/plain": [
       "[<strong>26</strong>, <strong>83</strong>]"
      ]
     },
     "execution_count": 20,
     "metadata": {},
     "output_type": "execute_result"
    }
   ],
   "source": [
    "answer_divs = body1.select(\"div.status strong\")\n",
    "answer_divs[:2]"
   ]
  },
  {
   "cell_type": "code",
   "execution_count": 21,
   "metadata": {},
   "outputs": [
    {
     "data": {
      "text/plain": [
       "[26, 83, 39, 35, 35]"
      ]
     },
     "execution_count": 21,
     "metadata": {},
     "output_type": "execute_result"
    }
   ],
   "source": [
    "no_of_answers = [int(i.text) for i in answer_divs]\n",
    "no_of_answers[:5]"
   ]
  },
  {
   "cell_type": "code",
   "execution_count": 22,
   "metadata": {},
   "outputs": [
    {
     "data": {
      "text/plain": [
       "<div class=\"views supernova\" title=\"1,475,392 views\">\n",
       "    1.5m views\n",
       "</div>"
      ]
     },
     "execution_count": 22,
     "metadata": {},
     "output_type": "execute_result"
    }
   ],
   "source": [
    "div_views = body1.select(\"div.supernova\")\n",
    "div_views[0]"
   ]
  },
  {
   "cell_type": "code",
   "execution_count": 23,
   "metadata": {},
   "outputs": [
    {
     "data": {
      "text/plain": [
       "[1475392, 8494270, 8075055, 2769014, 2758662]"
      ]
     },
     "execution_count": 23,
     "metadata": {},
     "output_type": "execute_result"
    }
   ],
   "source": [
    "no_of_views = [i['title'] for i in div_views]\n",
    "no_of_views = [i[:-6].replace(',', '') for i in no_of_views]\n",
    "no_of_views = [int(i) for i in no_of_views]\n",
    "no_of_views[:5]"
   ]
  },
  {
   "cell_type": "code",
   "execution_count": 24,
   "metadata": {},
   "outputs": [],
   "source": [
    "#putting it all togather\n",
    "def get_top_questions(url, question_count):\n",
    "\n",
    "    url = url + \"?sort=votes&pagesize={}\".format(question_count)\n",
    "    \n",
    "    \n",
    "    response = requests.get(url)\n",
    "\n",
    "    \n",
    "    soup = bs(response.content, 'html.parser')\n",
    "    body = soup.find('body')\n",
    "\n",
    "    # Extracting Top Questions\n",
    "    question_links = body1.select(\"h3 a.question-hyperlink\")\n",
    "    questions = [i.text for i in question_links]                       \n",
    "    \n",
    "    # Extracting Summary\n",
    "    summary_divs = body1.select(\"div.excerpt\")\n",
    "    #summaries = [i.text.strip() for i in summary_divs]                \n",
    "    \n",
    "    # Extracting Tags\n",
    "    tags_divs = body1.select(\"div.summary > div:nth-of-type(2)\")\n",
    "    \n",
    "    a_tags_list = [i.select('a') for i in tags_divs]                 \n",
    "    \n",
    "    tags = []\n",
    "\n",
    "    for a_group in a_tags_list:\n",
    "        tags.append([a.text for a in a_group])                         \n",
    "    \n",
    "    # Extracting Number of votes\n",
    "    vote_spans = body1.select(\"span.vote-count-post strong\")\n",
    "    no_of_votes = [int(i.text) for i in vote_spans]                    \n",
    "    \n",
    "    # Extracting Number of answers\n",
    "    answer_divs = body1.select(\"div.status strong\")\n",
    "    no_of_answers = [int(i.text) for i in answer_divs]                 \n",
    "    \n",
    "    # Extracting Number of views\n",
    "    div_views = body1.select(\"div.supernova\")\n",
    "    \n",
    "    no_of_views = [i['title'] for i in div_views]\n",
    "    no_of_views = [i[:-6].replace(',', '') for i in no_of_views]\n",
    "    no_of_views = [int(i) for i in no_of_views]                        \n",
    "    \n",
    "    # Putting all of them together\n",
    "    df = pd.DataFrame({'question': questions, \n",
    "                       'summary': summaries, \n",
    "                       'tags': tags,\n",
    "                       'no_of_votes': no_of_votes,\n",
    "                       'no_of_answers': no_of_answers,\n",
    "                       'no_of_views': no_of_views})\n",
    "\n",
    "    return df"
   ]
  },
  {
   "cell_type": "code",
   "execution_count": 25,
   "metadata": {},
   "outputs": [
    {
     "data": {
      "text/html": [
       "<div>\n",
       "<style scoped>\n",
       "    .dataframe tbody tr th:only-of-type {\n",
       "        vertical-align: middle;\n",
       "    }\n",
       "\n",
       "    .dataframe tbody tr th {\n",
       "        vertical-align: top;\n",
       "    }\n",
       "\n",
       "    .dataframe thead th {\n",
       "        text-align: right;\n",
       "    }\n",
       "</style>\n",
       "<table border=\"1\" class=\"dataframe\">\n",
       "  <thead>\n",
       "    <tr style=\"text-align: right;\">\n",
       "      <th></th>\n",
       "      <th>question</th>\n",
       "      <th>summary</th>\n",
       "      <th>tags</th>\n",
       "      <th>no_of_votes</th>\n",
       "      <th>no_of_answers</th>\n",
       "      <th>no_of_views</th>\n",
       "    </tr>\n",
       "  </thead>\n",
       "  <tbody>\n",
       "    <tr>\n",
       "      <td>0</td>\n",
       "      <td>Why is processing a sorted array faster than p...</td>\n",
       "      <td>Here is a piece of C++ code that shows some ve...</td>\n",
       "      <td>[java, c++, performance, optimization, branch-...</td>\n",
       "      <td>24231</td>\n",
       "      <td>26</td>\n",
       "      <td>1475392</td>\n",
       "    </tr>\n",
       "    <tr>\n",
       "      <td>1</td>\n",
       "      <td>How do I undo the most recent local commits in...</td>\n",
       "      <td>I accidentally committed the wrong files to Gi...</td>\n",
       "      <td>[git, version-control, git-commit, undo, pre-c...</td>\n",
       "      <td>20771</td>\n",
       "      <td>83</td>\n",
       "      <td>8494270</td>\n",
       "    </tr>\n",
       "    <tr>\n",
       "      <td>2</td>\n",
       "      <td>How do I delete a Git branch locally and remot...</td>\n",
       "      <td>I want to delete a branch both locally and rem...</td>\n",
       "      <td>[git, version-control, git-branch, git-push, g...</td>\n",
       "      <td>16740</td>\n",
       "      <td>39</td>\n",
       "      <td>8075055</td>\n",
       "    </tr>\n",
       "    <tr>\n",
       "      <td>3</td>\n",
       "      <td>What is the difference between 'git pull' and ...</td>\n",
       "      <td>What are the differences between git pull and ...</td>\n",
       "      <td>[git, version-control, git-pull, git-fetch]</td>\n",
       "      <td>11772</td>\n",
       "      <td>35</td>\n",
       "      <td>2769014</td>\n",
       "    </tr>\n",
       "    <tr>\n",
       "      <td>4</td>\n",
       "      <td>What is the correct JSON content type?</td>\n",
       "      <td>I've been messing around with JSON for some ti...</td>\n",
       "      <td>[json, http-headers, content-type]</td>\n",
       "      <td>10166</td>\n",
       "      <td>35</td>\n",
       "      <td>2758662</td>\n",
       "    </tr>\n",
       "  </tbody>\n",
       "</table>\n",
       "</div>"
      ],
      "text/plain": [
       "                                            question  \\\n",
       "0  Why is processing a sorted array faster than p...   \n",
       "1  How do I undo the most recent local commits in...   \n",
       "2  How do I delete a Git branch locally and remot...   \n",
       "3  What is the difference between 'git pull' and ...   \n",
       "4             What is the correct JSON content type?   \n",
       "\n",
       "                                             summary  \\\n",
       "0  Here is a piece of C++ code that shows some ve...   \n",
       "1  I accidentally committed the wrong files to Gi...   \n",
       "2  I want to delete a branch both locally and rem...   \n",
       "3  What are the differences between git pull and ...   \n",
       "4  I've been messing around with JSON for some ti...   \n",
       "\n",
       "                                                tags  no_of_votes  \\\n",
       "0  [java, c++, performance, optimization, branch-...        24231   \n",
       "1  [git, version-control, git-commit, undo, pre-c...        20771   \n",
       "2  [git, version-control, git-branch, git-push, g...        16740   \n",
       "3        [git, version-control, git-pull, git-fetch]        11772   \n",
       "4                 [json, http-headers, content-type]        10166   \n",
       "\n",
       "   no_of_answers  no_of_views  \n",
       "0             26      1475392  \n",
       "1             83      8494270  \n",
       "2             39      8075055  \n",
       "3             35      2769014  \n",
       "4             35      2758662  "
      ]
     },
     "execution_count": 25,
     "metadata": {},
     "output_type": "execute_result"
    }
   ],
   "source": [
    "URL2 = 'https://stackoverflow.com/questions'\n",
    "\n",
    "df1 = get_top_questions(URL2, 50)\n",
    "df1.head()"
   ]
  },
  {
   "cell_type": "code",
   "execution_count": 26,
   "metadata": {},
   "outputs": [
    {
     "data": {
      "image/png": "[encoded data removed]",
      "text/plain": [
       "<Figure size 864x576 with 3 Axes>"
      ]
     },
     "metadata": {
      "needs_background": "light"
     },
     "output_type": "display_data"
    }
   ],
   "source": [
    "f, ax = plt.subplots(3, 1, figsize=(12, 8))\n",
    "\n",
    "ax[0].bar(df1.index, df1.no_of_votes)\n",
    "ax[0].set_ylabel('No of Votes')\n",
    "\n",
    "ax[1].bar(df1.index, df1.no_of_views)\n",
    "ax[1].set_ylabel('No of Views')\n",
    "\n",
    "ax[2].bar(df1.index, df1.no_of_answers)\n",
    "ax[2].set_ylabel('No of Answers')\n",
    "\n",
    "plt.savefig('votes_vs_views_vs_answers.png', bbox_inches='tight')\n",
    "\n",
    "plt.show()"
   ]
  },
  {
   "cell_type": "code",
   "execution_count": 3,
   "metadata": {},
   "outputs": [
    {
     "name": "stdout",
     "output_type": "stream",
     "text": [
      "200\n"
     ]
    }
   ],
   "source": [
    "import requests\n",
    "import time\n",
    "\n",
    "response = requests.get('https://stackoverflow.com/users?page=1&tab=reputation&filter=all')\n",
    "\n",
    "print(response.status_code)\n",
    "\n",
    "soup = bs(response.text, 'html.parser')"
   ]
  },
  {
   "cell_type": "code",
   "execution_count": 4,
   "metadata": {},
   "outputs": [],
   "source": [
    "entries=soup.find_all('div', class_='-flair')\n",
    "\n",
    "#print (entries)\n"
   ]
  },
  {
   "cell_type": "code",
   "execution_count": 5,
   "metadata": {},
   "outputs": [
    {
     "name": "stdout",
     "output_type": "stream",
     "text": [
      "Done!!\n"
     ]
    }
   ],
   "source": [
    "pages = []\n",
    "reputationS=[]\n",
    "\n",
    "\n",
    "for i in range(1, 20):\n",
    "    url = 'https://stackoverflow.com/users?page='+str(i)+'&tab=reputation&filter=all'\n",
    "    pages.append(url)\n",
    "    for item in entries:\n",
    "        if item.find('span', class_='reputation-score')is not None:\n",
    "            rep=item.find('span', class_='reputation-score').text\n",
    "            reputationS.append(rep)   \n",
    "        else:\n",
    "             reputationS.append(None)\n",
    "    time.sleep(3) #so we wait for three seconds between fetching each page so we do not put pressure on the website\n",
    "\n",
    "    \n",
    "print (\"Done!!\")"
   ]
  },
  {
   "cell_type": "code",
   "execution_count": 6,
   "metadata": {},
   "outputs": [
    {
     "name": "stdout",
     "output_type": "stream",
     "text": [
      "Done!!\n"
     ]
    }
   ],
   "source": [
    "for i in range(325100, 325121):\n",
    "    url = 'https://stackoverflow.com/users?page='+str(i)+'&tab=reputation&filter=all'\n",
    "    pages.append(url)\n",
    "    for item in entries:\n",
    "        if item.find('span', class_='reputation-score')is not None:\n",
    "            rep=item.find('span', class_='reputation-score').text\n",
    "            reputationS.append(rep)   \n",
    "        else:\n",
    "             reputationS.append(None)\n",
    "    time.sleep(3) #so we wait for three seconds between fetching each page so we do not put pressure on the website\n",
    "\n",
    "    \n",
    "print (\"Done!!\")"
   ]
  },
  {
   "cell_type": "code",
   "execution_count": 7,
   "metadata": {},
   "outputs": [
    {
     "data": {
      "text/html": [
       "<div>\n",
       "<style scoped>\n",
       "    .dataframe tbody tr th:only-of-type {\n",
       "        vertical-align: middle;\n",
       "    }\n",
       "\n",
       "    .dataframe tbody tr th {\n",
       "        vertical-align: top;\n",
       "    }\n",
       "\n",
       "    .dataframe thead th {\n",
       "        text-align: right;\n",
       "    }\n",
       "</style>\n",
       "<table border=\"1\" class=\"dataframe\">\n",
       "  <thead>\n",
       "    <tr style=\"text-align: right;\">\n",
       "      <th></th>\n",
       "      <th>reputation score</th>\n",
       "    </tr>\n",
       "  </thead>\n",
       "  <tbody>\n",
       "    <tr>\n",
       "      <td>0</td>\n",
       "      <td>1174k</td>\n",
       "    </tr>\n",
       "    <tr>\n",
       "      <td>1</td>\n",
       "      <td>942k</td>\n",
       "    </tr>\n",
       "    <tr>\n",
       "      <td>2</td>\n",
       "      <td>938k</td>\n",
       "    </tr>\n",
       "    <tr>\n",
       "      <td>3</td>\n",
       "      <td>923k</td>\n",
       "    </tr>\n",
       "    <tr>\n",
       "      <td>4</td>\n",
       "      <td>906k</td>\n",
       "    </tr>\n",
       "    <tr>\n",
       "      <td>...</td>\n",
       "      <td>...</td>\n",
       "    </tr>\n",
       "    <tr>\n",
       "      <td>1435</td>\n",
       "      <td>567k</td>\n",
       "    </tr>\n",
       "    <tr>\n",
       "      <td>1436</td>\n",
       "      <td>555k</td>\n",
       "    </tr>\n",
       "    <tr>\n",
       "      <td>1437</td>\n",
       "      <td>550k</td>\n",
       "    </tr>\n",
       "    <tr>\n",
       "      <td>1438</td>\n",
       "      <td>548k</td>\n",
       "    </tr>\n",
       "    <tr>\n",
       "      <td>1439</td>\n",
       "      <td>534k</td>\n",
       "    </tr>\n",
       "  </tbody>\n",
       "</table>\n",
       "<p>1440 rows × 1 columns</p>\n",
       "</div>"
      ],
      "text/plain": [
       "     reputation score\n",
       "0               1174k\n",
       "1                942k\n",
       "2                938k\n",
       "3                923k\n",
       "4                906k\n",
       "...               ...\n",
       "1435             567k\n",
       "1436             555k\n",
       "1437             550k\n",
       "1438             548k\n",
       "1439             534k\n",
       "\n",
       "[1440 rows x 1 columns]"
      ]
     },
     "execution_count": 7,
     "metadata": {},
     "output_type": "execute_result"
    }
   ],
   "source": [
    "df= pd.DataFrame({'reputation score': reputationS})\n",
    "df"
   ]
  },
  {
   "cell_type": "code",
   "execution_count": 8,
   "metadata": {},
   "outputs": [
    {
     "data": {
      "text/html": [
       "<div>\n",
       "<style scoped>\n",
       "    .dataframe tbody tr th:only-of-type {\n",
       "        vertical-align: middle;\n",
       "    }\n",
       "\n",
       "    .dataframe tbody tr th {\n",
       "        vertical-align: top;\n",
       "    }\n",
       "\n",
       "    .dataframe thead th {\n",
       "        text-align: right;\n",
       "    }\n",
       "</style>\n",
       "<table border=\"1\" class=\"dataframe\">\n",
       "  <thead>\n",
       "    <tr style=\"text-align: right;\">\n",
       "      <th></th>\n",
       "      <th>reputation score</th>\n",
       "    </tr>\n",
       "  </thead>\n",
       "  <tbody>\n",
       "    <tr>\n",
       "      <td>0</td>\n",
       "      <td>1174000</td>\n",
       "    </tr>\n",
       "    <tr>\n",
       "      <td>1</td>\n",
       "      <td>942000</td>\n",
       "    </tr>\n",
       "    <tr>\n",
       "      <td>2</td>\n",
       "      <td>938000</td>\n",
       "    </tr>\n",
       "    <tr>\n",
       "      <td>3</td>\n",
       "      <td>923000</td>\n",
       "    </tr>\n",
       "    <tr>\n",
       "      <td>4</td>\n",
       "      <td>906000</td>\n",
       "    </tr>\n",
       "    <tr>\n",
       "      <td>...</td>\n",
       "      <td>...</td>\n",
       "    </tr>\n",
       "    <tr>\n",
       "      <td>1435</td>\n",
       "      <td>567000</td>\n",
       "    </tr>\n",
       "    <tr>\n",
       "      <td>1436</td>\n",
       "      <td>555000</td>\n",
       "    </tr>\n",
       "    <tr>\n",
       "      <td>1437</td>\n",
       "      <td>550000</td>\n",
       "    </tr>\n",
       "    <tr>\n",
       "      <td>1438</td>\n",
       "      <td>548000</td>\n",
       "    </tr>\n",
       "    <tr>\n",
       "      <td>1439</td>\n",
       "      <td>534000</td>\n",
       "    </tr>\n",
       "  </tbody>\n",
       "</table>\n",
       "<p>1440 rows × 1 columns</p>\n",
       "</div>"
      ],
      "text/plain": [
       "      reputation score\n",
       "0              1174000\n",
       "1               942000\n",
       "2               938000\n",
       "3               923000\n",
       "4               906000\n",
       "...                ...\n",
       "1435            567000\n",
       "1436            555000\n",
       "1437            550000\n",
       "1438            548000\n",
       "1439            534000\n",
       "\n",
       "[1440 rows x 1 columns]"
      ]
     },
     "execution_count": 8,
     "metadata": {},
     "output_type": "execute_result"
    }
   ],
   "source": [
    "length = len(reputationS)\n",
    "sum = 0;    \n",
    "for i in range(length):\n",
    "    \n",
    "    tmp=reputationS[i]\n",
    "    if (tmp[-1]=='k'):\n",
    "            \n",
    "            tmp=tmp[:-1]\n",
    "            tmp=int(tmp)\n",
    "            tmp=tmp*1000\n",
    "    reputationS[i]=tmp\n",
    "    sum=sum+tmp\n",
    "\n",
    "df= pd.DataFrame({'reputation score': reputationS})\n",
    "df\n",
    "\n",
    "#_____________\n",
    "\n"
   ]
  },
  {
   "cell_type": "code",
   "execution_count": 9,
   "metadata": {},
   "outputs": [
    {
     "name": "stdout",
     "output_type": "stream",
     "text": [
      "mean:\n",
      "700972.2222222222\n",
      "___\n",
      "total:\n",
      "1009400000\n",
      "___\n",
      "length:\n",
      "1440\n"
     ]
    }
   ],
   "source": [
    "x = np.mean(reputationS)\n",
    "print(\"mean:\")\n",
    "print(x)\n",
    "\n",
    "print(\"___\")\n",
    "\n",
    "print(\"total:\")\n",
    "print(sum)\n",
    "\n",
    "print(\"___\")\n",
    "\n",
    "\n",
    "print(\"length:\")\n",
    "print(length)\n",
    "\n",
    "\n"
   ]
  },
  {
   "cell_type": "code",
   "execution_count": 28,
   "metadata": {},
   "outputs": [
    {
     "name": "stdout",
     "output_type": "stream",
     "text": [
      "200\n"
     ]
    }
   ],
   "source": [
    "# Collect and parse first page\n",
    "response = requests.get('https://stackoverflow.com/users?page=1&tab=reputation&filter=all')\n",
    "\n",
    "print(response.status_code)\n",
    "\n",
    "soup = bs(response.text, 'html.parser')"
   ]
  },
  {
   "cell_type": "code",
   "execution_count": 29,
   "metadata": {},
   "outputs": [],
   "source": [
    "entries=soup.find_all('div', class_='user-details')\n"
   ]
  },
  {
   "cell_type": "code",
   "execution_count": 30,
   "metadata": {},
   "outputs": [
    {
     "name": "stdout",
     "output_type": "stream",
     "text": [
      "Done!!\n"
     ]
    }
   ],
   "source": [
    "pages = []\n",
    "location=[]\n",
    "\n",
    "\n",
    "for i in range(1, 20):\n",
    "    url = 'https://stackoverflow.com/users?page='+str(i)+'&tab=reputation&filter=all'\n",
    "    pages.append(url)\n",
    "    for item in entries:\n",
    "        if item.find('span', class_='user-location')is not None:\n",
    "            rep=item.find('span', class_='user-location').text\n",
    "            location.append(rep)   \n",
    "        else:\n",
    "             reputationS.append(None)\n",
    "    time.sleep(3) #so we wait for three seconds between fetching each page so we do not put pressure on the website\n",
    "\n",
    "    \n",
    "print (\"Done!!\")"
   ]
  },
  {
   "cell_type": "code",
   "execution_count": 31,
   "metadata": {},
   "outputs": [
    {
     "data": {
      "text/html": [
       "<div>\n",
       "<style scoped>\n",
       "    .dataframe tbody tr th:only-of-type {\n",
       "        vertical-align: middle;\n",
       "    }\n",
       "\n",
       "    .dataframe tbody tr th {\n",
       "        vertical-align: top;\n",
       "    }\n",
       "\n",
       "    .dataframe thead th {\n",
       "        text-align: right;\n",
       "    }\n",
       "</style>\n",
       "<table border=\"1\" class=\"dataframe\">\n",
       "  <thead>\n",
       "    <tr style=\"text-align: right;\">\n",
       "      <th></th>\n",
       "      <th>location</th>\n",
       "    </tr>\n",
       "  </thead>\n",
       "  <tbody>\n",
       "    <tr>\n",
       "      <td>0</td>\n",
       "      <td>Reading, United Kingdom</td>\n",
       "    </tr>\n",
       "    <tr>\n",
       "      <td>1</td>\n",
       "      <td>France</td>\n",
       "    </tr>\n",
       "    <tr>\n",
       "      <td>2</td>\n",
       "      <td>New York, United States</td>\n",
       "    </tr>\n",
       "    <tr>\n",
       "      <td>3</td>\n",
       "      <td>Willemstad, Curaçao</td>\n",
       "    </tr>\n",
       "    <tr>\n",
       "      <td>4</td>\n",
       "      <td>Sofia, Bulgaria</td>\n",
       "    </tr>\n",
       "    <tr>\n",
       "      <td>...</td>\n",
       "      <td>...</td>\n",
       "    </tr>\n",
       "    <tr>\n",
       "      <td>679</td>\n",
       "      <td>Winston-Salem, NC</td>\n",
       "    </tr>\n",
       "    <tr>\n",
       "      <td>680</td>\n",
       "      <td>Ulm, Germany</td>\n",
       "    </tr>\n",
       "    <tr>\n",
       "      <td>681</td>\n",
       "      <td>Ulverston, United Kingdom</td>\n",
       "    </tr>\n",
       "    <tr>\n",
       "      <td>682</td>\n",
       "      <td>New York, NY</td>\n",
       "    </tr>\n",
       "    <tr>\n",
       "      <td>683</td>\n",
       "      <td></td>\n",
       "    </tr>\n",
       "  </tbody>\n",
       "</table>\n",
       "<p>684 rows × 1 columns</p>\n",
       "</div>"
      ],
      "text/plain": [
       "                      location\n",
       "0      Reading, United Kingdom\n",
       "1                       France\n",
       "2      New York, United States\n",
       "3          Willemstad, Curaçao\n",
       "4              Sofia, Bulgaria\n",
       "..                         ...\n",
       "679          Winston-Salem, NC\n",
       "680               Ulm, Germany\n",
       "681  Ulverston, United Kingdom\n",
       "682               New York, NY\n",
       "683                           \n",
       "\n",
       "[684 rows x 1 columns]"
      ]
     },
     "execution_count": 31,
     "metadata": {},
     "output_type": "execute_result"
    }
   ],
   "source": [
    "df= pd.DataFrame({'location': location})\n",
    "df"
   ]
  },
  {
   "cell_type": "code",
   "execution_count": 32,
   "metadata": {},
   "outputs": [
    {
     "data": {
      "text/plain": [
       "                                  95\n",
       "United Kingdom                    57\n",
       "Virsbo, Sweden                    19\n",
       "Seattle, WA                       19\n",
       "Pennsylvania, United States       19\n",
       "Colorado, USA                     19\n",
       "Willemstad, Curaçao               19\n",
       "Denmark                           19\n",
       "New York, United States           19\n",
       "Sunnyvale, CA                     19\n",
       "Winston-Salem, NC                 19\n",
       "Australia                         19\n",
       "Cambridge, UK                     19\n",
       "United States                     19\n",
       "Ulm, Germany                      19\n",
       "New Jersey                        19\n",
       "Singapore                         19\n",
       "Redmond, WA                       19\n",
       "Madison, WI                       19\n",
       "Guatemala                         19\n",
       "Saint-Etienne, France             19\n",
       "Ulverston, United Kingdom         19\n",
       "Sofia, Bulgaria                   19\n",
       "Forest of Dean, United Kingdom    19\n",
       "Bangalore, India                  19\n",
       "France                            19\n",
       "New York, NY                      19\n",
       "Reading, United Kingdom           19\n",
       "Christchurch, New Zealand         19\n",
       "Bern, Switzerland                 19\n",
       "Name: location, dtype: int64"
      ]
     },
     "execution_count": 32,
     "metadata": {},
     "output_type": "execute_result"
    }
   ],
   "source": [
    "df['location'].value_counts()"
   ]
  },
  {
   "cell_type": "code",
   "execution_count": 33,
   "metadata": {},
   "outputs": [
    {
     "data": {
      "text/plain": [
       "0        Reading, United Kingdom\n",
       "1                         France\n",
       "2        New York, United States\n",
       "3            Willemstad, Curaçao\n",
       "4                Sofia, Bulgaria\n",
       "                 ...            \n",
       "679            Winston-Salem, NC\n",
       "680                 Ulm, Germany\n",
       "681    Ulverston, United Kingdom\n",
       "682                 New York, NY\n",
       "683                          NaN\n",
       "Name: location, Length: 684, dtype: object"
      ]
     },
     "execution_count": 33,
     "metadata": {},
     "output_type": "execute_result"
    }
   ],
   "source": [
    "df= df['location'].replace(\"\", np.nan)\n",
    "df"
   ]
  },
  {
   "cell_type": "code",
   "execution_count": 34,
   "metadata": {},
   "outputs": [
    {
     "data": {
      "text/plain": [
       "0        Reading, United Kingdom\n",
       "1                         France\n",
       "2        New York, United States\n",
       "3            Willemstad, Curaçao\n",
       "4                Sofia, Bulgaria\n",
       "                 ...            \n",
       "678                    Singapore\n",
       "679            Winston-Salem, NC\n",
       "680                 Ulm, Germany\n",
       "681    Ulverston, United Kingdom\n",
       "682                 New York, NY\n",
       "Name: location, Length: 589, dtype: object"
      ]
     },
     "execution_count": 34,
     "metadata": {},
     "output_type": "execute_result"
    }
   ],
   "source": [
    "NNlocation = df.dropna()\n",
    "NNlocation"
   ]
  },
  {
   "cell_type": "code",
   "execution_count": 35,
   "metadata": {},
   "outputs": [
    {
     "name": "stderr",
     "output_type": "stream",
     "text": [
      "C:\\Users\\DELL\\Anaconda3\\lib\\site-packages\\ipykernel_launcher.py:1: FutureWarning: `Series.plot()` should not be called with positional arguments, only keyword arguments. The order of positional arguments will change in the future. Use `Series.plot(kind='bar')` instead of `Series.plot('bar',)`.\n",
      "  \"\"\"Entry point for launching an IPython kernel.\n"
     ]
    },
    {
     "data": {
      "text/plain": [
       "<matplotlib.axes._subplots.AxesSubplot at 0x1fb5667f108>"
      ]
     },
     "execution_count": 35,
     "metadata": {},
     "output_type": "execute_result"
    },
    {
     "data": {
      "image/png": "[encoded data removed]",
      "text/plain": [
       "<Figure size 432x288 with 1 Axes>"
      ]
     },
     "metadata": {
      "needs_background": "light"
     },
     "output_type": "display_data"
    }
   ],
   "source": [
    "NNlocation.value_counts().plot('bar')"
   ]
  },
  {
   "cell_type": "code",
   "execution_count": null,
   "metadata": {},
   "outputs": [],
   "source": []
  }
 ],
 "metadata": {
  "kernelspec": {
   "display_name": "Python 3",
   "language": "python",
   "name": "python3"
  },
  "language_info": {
   "codemirror_mode": {
    "name": "ipython",
    "version": 3
   },
   "file_extension": ".py",
   "mimetype": "text/x-python",
   "name": "python",
   "nbconvert_exporter": "python",
   "pygments_lexer": "ipython3",
   "version": "3.7.4"
  }
 },
 "nbformat": 4,
 "nbformat_minor": 2
}
